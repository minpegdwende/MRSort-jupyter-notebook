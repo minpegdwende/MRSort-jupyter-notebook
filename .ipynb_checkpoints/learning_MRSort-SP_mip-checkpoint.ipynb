{
 "cells": [
  {
   "cell_type": "markdown",
   "metadata": {},
   "source": [
    "# Learning the parameters of a MR-Sort model with non-monotone data using an exact method"
   ]
  },
  {
   "cell_type": "markdown",
   "metadata": {},
   "source": [
    " "
   ]
  },
  {
   "cell_type": "markdown",
   "metadata": {},
   "source": [
    "## Introduction"
   ]
  },
  {
   "cell_type": "markdown",
   "metadata": {},
   "source": [
    "In this document we present our algorithm that learns MR-Sort model parameters with unknown preference direction in presence of non-monotone data. Here, we summarize the method and provide the course of action to test the implementation. The details are presented in an forthcoming paper.\n",
    "\n",
    "The method used for this problem is a Mixed Integer Programming (MIP) implementation, which as been used initially by Leroy et al. for dealing with a similar problem ([Learning the Parameters of a Multiple Criteria Sorting Method Based on a Majority Rule](papers/Leroy_Mousseau_Pirlot.pdf)); this article is about learning MR-Sort parameters with monotone data and an *a priori* knowledge on preference direction.\n",
    "\n",
    "In the following, we first show the requirements in order to test of our method, then give a brief description of our problem and the algorithm to solve it. Finally, we illustrate step by step, with a randomly generated example the results obtained with the algorithm.  "
   ]
  },
  {
   "cell_type": "markdown",
   "metadata": {},
   "source": [
    " "
   ]
  },
  {
   "cell_type": "markdown",
   "metadata": {},
   "source": [
    "## Settings"
   ]
  },
  {
   "cell_type": "markdown",
   "metadata": {},
   "source": [
    "The code originally in Python 2 has been upgraded to some extent to Python 3 and is located in the \"oso-pymcda/\" directory, which is in the same directory as this notebook.\n",
    "\n",
    "Before digging into the code, here are some requirements to have : \n"
   ]
  },
  {
   "cell_type": "markdown",
   "metadata": {},
   "source": [
    "* The version of Python used for this notebook is 3.7. Please check if you have the right version with this command on a terminal : *python --version* . If not, you can download this version on https://www.python.org/downloads/."
   ]
  },
  {
   "cell_type": "markdown",
   "metadata": {},
   "source": [
    " * You may need to download Anaconda3 (you will find here the complete procedure : https://docs.anaconda.com/anaconda/install/mac-os/)"
   ]
  },
  {
   "cell_type": "markdown",
   "metadata": {},
   "source": [
    "* The library matplotlib.pyplot need to be installed. This can be done with the command line below (preferably using pip  - that can be also installed following the instructions of this link : https://pip.pypa.io/en/stable/installing/):"
   ]
  },
  {
   "cell_type": "code",
   "execution_count": 1,
   "metadata": {},
   "outputs": [
    {
     "name": "stdout",
     "output_type": "stream",
     "text": [
      "Requirement already satisfied: matplotlib in /Users/pegdwendeminoungou/opt/anaconda3/lib/python3.7/site-packages (3.1.3)\n",
      "Requirement already satisfied: pyparsing!=2.0.4,!=2.1.2,!=2.1.6,>=2.0.1 in /Users/pegdwendeminoungou/opt/anaconda3/lib/python3.7/site-packages (from matplotlib) (2.4.6)\n",
      "Requirement already satisfied: kiwisolver>=1.0.1 in /Users/pegdwendeminoungou/opt/anaconda3/lib/python3.7/site-packages (from matplotlib) (1.1.0)\n",
      "Requirement already satisfied: cycler>=0.10 in /Users/pegdwendeminoungou/opt/anaconda3/lib/python3.7/site-packages (from matplotlib) (0.10.0)\n",
      "Requirement already satisfied: python-dateutil>=2.1 in /Users/pegdwendeminoungou/opt/anaconda3/lib/python3.7/site-packages (from matplotlib) (2.8.1)\n",
      "Requirement already satisfied: numpy>=1.11 in /Users/pegdwendeminoungou/opt/anaconda3/lib/python3.7/site-packages (from matplotlib) (1.18.1)\n",
      "Requirement already satisfied: setuptools in /Users/pegdwendeminoungou/opt/anaconda3/lib/python3.7/site-packages (from kiwisolver>=1.0.1->matplotlib) (46.0.0.post20200309)\n",
      "Requirement already satisfied: six in /Users/pegdwendeminoungou/opt/anaconda3/lib/python3.7/site-packages (from cycler>=0.10->matplotlib) (1.14.0)\n",
      "\u001b[33mWARNING: You are using pip version 20.2.3; however, version 21.1.3 is available.\n",
      "You should consider upgrading via the '/Users/pegdwendeminoungou/opt/anaconda3/bin/python -m pip install --upgrade pip' command.\u001b[0m\n",
      "Note: you may need to restart the kernel to use updated packages.\n"
     ]
    }
   ],
   "source": [
    "pip install matplotlib"
   ]
  },
  {
   "cell_type": "markdown",
   "metadata": {},
   "source": [
    "   * Download CPLEX Optimization Studio. Go to https://www.ibm.com/products/ilog-cplex-optimization-studio (choose the student/teacher free edition)  and follow the steps until the download of the \"ILOG CPLEX Optimization Studio\" following your operating system. The CPLEX version used in this notebook is 12.9. You may have to create a IBMid account. "
   ]
  },
  {
   "cell_type": "markdown",
   "metadata": {},
   "source": [
    "   * Then, look at instructions in the ReadMe file of the CPLEX directory that has been created in the Applications directory. In particular, it may require that you update your Java runtime application."
   ]
  },
  {
   "cell_type": "markdown",
   "metadata": {},
   "source": [
    "   * Open also the ReadMe file in the python directory of the CPLEX directory. Execute this command line on the terminal : *pip install docplex*"
   ]
  },
  {
   "cell_type": "markdown",
   "metadata": {},
   "source": [
    "   * In order to set up the CPLEX Python API, follow instructions here : https://www.ibm.com/support/knowledgecenter/SSSA5P_12.9.0/ilog.odms.cplex.help/CPLEX/GettingStarted/topics/set_up/Python_setup.html. In the same directory as previously, execute the command line on the terminal  : *python setup.py install*"
   ]
  },
  {
   "cell_type": "markdown",
   "metadata": {},
   "source": [
    "  * Set the environment variable PYTHONPATH on the terminal so that it may contains the path from the root folder to \"cplex\" via \"Anaconda3\" and another path from the \"Applications\" folder to \"cplex\". Here is an example : *export PYTHONPATH=$PYTHONPATH:/Users/pegdwendeminoungou/anaconda3/lib/python3.7/site-packages/cplex:/Applications/CPLEX_Studio129/cplex*\n"
   ]
  },
  {
   "cell_type": "markdown",
   "metadata": {},
   "source": [
    "* Any help could be found here : https://www.ibm.com/support/knowledgecenter/SSSA5P_12.9.0/ilog.odms.studio.help/Optimization_Studio/topics/COS_home.html\n",
    "   "
   ]
  },
  {
   "cell_type": "markdown",
   "metadata": {},
   "source": [
    "We need to set the global variable *DATADIR* so that it contains the right path from the root to this working directory  **MRSort-jupyter-notebook** . Here an example :"
   ]
  },
  {
   "cell_type": "code",
   "execution_count": 2,
   "metadata": {},
   "outputs": [
    {
     "name": "stdout",
     "output_type": "stream",
     "text": [
      "env: DATADIR=/Users/pegdwendeminoungou/python_workspace/MRSort-jupyter-notebook\n"
     ]
    }
   ],
   "source": [
    "%env DATADIR /Users/pegdwendeminoungou/python_workspace/MRSort-jupyter-notebook"
   ]
  },
  {
   "cell_type": "markdown",
   "metadata": {},
   "source": [
    " "
   ]
  },
  {
   "cell_type": "markdown",
   "metadata": {},
   "source": [
    "## Brief description of the MIP algorithm for the inference of MR-Sort parameters using non-monotone data"
   ]
  },
  {
   "cell_type": "markdown",
   "metadata": {},
   "source": [
    "First, our learning sets are composed by both monotone criteria (gain and cost types) and non-monotone criteria : single-peaked (SP) and single-valley (SV) types. First of all, let us consider 2 categories. A single peaked (resp. single-valley) preference is characterized by 2 profiles values forming an interval, for which within itself, the evaluations account for the *good* (resp. *bad*) values, while outside the interval, evaluations are labeled as *bad* (resp. *good*) values. Comparably good values for a gain (resp. cost) criterion are located above (resp. below) the profile value of such criterion.\n",
    "An alternative with *good* values on a winning criteria coalition is required in order to be assigned to the best category. Here, with MR-Sort a winning criteria coalition is traduced by a positive difference between the sum such criteria and the threshold majority.\n",
    "\n",
    "Our MIP algorithm is inspired by the previous work of Leroy et al. (as mentionned before).\n",
    "Nevertheless, the center of the contribution is to deal with SP/SV criteria, which is done by equating SP (resp. SV) criterion to cost (resp. gain) criterion. Intuitively, this transformation is possible thanks to the folding up of the evaluation axis by the middle of the interval of SP/SV criteria.\n",
    "\n",
    "The implementation relies on 2 variants of the objective function : \n",
    "* formulation 1 : based on the maximization of the number of correctly assigned alternatives.\n",
    "* formulation 2 : based on the maximization of the number of correctly assigned alternatives, the number of SP/gain/cost criteria detected, and the amplitude of the interval profile values learned.\n"
   ]
  },
  {
   "cell_type": "markdown",
   "metadata": {},
   "source": [
    "## Test of the MIP algorithm"
   ]
  },
  {
   "cell_type": "markdown",
   "metadata": {},
   "source": [
    "  "
   ]
  },
  {
   "cell_type": "markdown",
   "metadata": {},
   "source": [
    "Experiments comprise 3 main parts : the setting of the MIP learning algorithm, the setting of the generated instance problem, and finally executions and results "
   ]
  },
  {
   "cell_type": "markdown",
   "metadata": {},
   "source": [
    "First, in order to load what is needed in this part, let us excute the following command line :  "
   ]
  },
  {
   "cell_type": "code",
   "execution_count": 3,
   "metadata": {
    "scrolled": true
   },
   "outputs": [],
   "source": [
    "run oso-pymcda/apps/random_model_generation_msjp_mip_sp_criteria.py"
   ]
  },
  {
   "cell_type": "markdown",
   "metadata": {},
   "source": [
    "Second, we progressively follow these steps : \n",
    "   * <u>Step 1</u> : initialize both problem and algorithm parameters,\n",
    "   * <u>Step 2</u> : (1) generate a new random MR-Sort model (profile, weights, threshold) => this is the ground truth model, (2) generate randomly a set of alternatives and performance table, (3) assign categories to these alternatives to yield a learning set in accordance with the problem addressed,\n",
    "   * <u>Step 3</u> : run the MIP algorithm (a single execution) for the instance problem previously created, and output the validation and tests results (% of classification accuracy (CA) of the learned model compared to the initial model on the learning set and test set) and the restoration rate of unknown preference directions; test the learned algorithm on a benchmarch of alternatives examples (several instance problems).\n",
    "   * <u>Step 4</u> : display the important results (summarized also in a csv file) "
   ]
  },
  {
   "cell_type": "markdown",
   "metadata": {},
   "source": [
    " "
   ]
  },
  {
   "cell_type": "markdown",
   "metadata": {},
   "source": [
    "#### Step 1 : initialize the required parameters"
   ]
  },
  {
   "cell_type": "markdown",
   "metadata": {},
   "source": [
    "Here, we initialize the parameters for one running of the learning algorithm. \n",
    "First, we have the problem parameters : \n",
    "   * *nb_categories* : the number of categories (classes)\n",
    "   * *nb_criteria* : the number of criteria taken in consideration in the problem\n",
    "   * *nb_alternatives* : the number of alternatives in the learning set\n",
    "   * *dir_criteria* : the list of preference directions of the original model\n",
    "   * *l_known_pref_dirs* : the list of criteria (indices) with unknown preference directions\n",
    "   * *nb_tests* : the number of alternatives taken into account in the test set\n",
    "   * *nb_models* : the number of models (instance problems) considered in order to compute averaged results\n",
    "\n",
    "Then, we have the algorithm specific parameters:\n",
    "\n",
    "   * *version_mip* : the variant of the objective function (formulation 1, formulation 2)\n",
    "   * *mip_nb_threads* : the number of threads used for one execution of the MIP algorithm (smaller than the number of cores of the processor)  \n",
    "   * *mip_timetype* : type of clock used : either CPU Time or wall clock time  \n",
    "   * *mip_timeout* : the limit time for the execution of the MIP (CPLEX) \n",
    "   \n"
   ]
  },
  {
   "cell_type": "code",
   "execution_count": 4,
   "metadata": {},
   "outputs": [],
   "source": [
    "nb_categories = 2 # fixed\n",
    "nb_criteria = 5\n",
    "nb_alternatives = 100\n",
    "dir_criteria = [2,1,1,1,1] # 1: increasing, -1:decreasing, 2:single-peaked, -2:single-valley\n",
    "l_known_pref_dirs = [0] # the list of indices of criteria with unknown preference direction\n",
    "\n",
    "# parameters of the MIP algorithm\n",
    "mip_nb_threads = 1 # number of threads per MIP execution\n",
    "mip_timetype = 1 # 1: for CPU time, 0: for machine time\n",
    "mip_timeout = 60 # in seconds\n",
    "\n",
    "# test parameters\n",
    "nb_tests = 10000\n",
    "nb_models = 5\n",
    "noise = 0\n",
    "\n",
    "# additionnal parameters of the algorithm\n",
    "version_mip = 2 # 1: for variant 1 and 2: for variant 2\n"
   ]
  },
  {
   "cell_type": "markdown",
   "metadata": {},
   "source": [
    "Now we can create an instance of the one running of the learning algorithm as follows :"
   ]
  },
  {
   "cell_type": "code",
   "execution_count": 5,
   "metadata": {},
   "outputs": [],
   "source": [
    "inst = RandMRSortMIPLearning(nb_alternatives, nb_categories, nb_criteria, dir_criteria, l_known_pref_dirs, nb_tests,\n",
    "                             nb_models, noise = noise, version_mip = version_mip, mip_nb_threads = mip_nb_threads, \n",
    "                             mip_timetype=mip_timetype, mip_timeout=mip_timeout)"
   ]
  },
  {
   "cell_type": "markdown",
   "metadata": {},
   "source": [
    "  "
   ]
  },
  {
   "cell_type": "markdown",
   "metadata": {},
   "source": [
    "#### Step 2 to 3 : generation of the ground truth (new random MRSort model, alternatives, assignments) and the running of the MRSort MIP algorithm"
   ]
  },
  {
   "cell_type": "markdown",
   "metadata": {},
   "source": [
    "Here, we generate a new random MRSort, alternatives, and assignment of these alternatives in 2 categories regarding the MRSort rule on the given model."
   ]
  },
  {
   "cell_type": "code",
   "execution_count": 6,
   "metadata": {},
   "outputs": [],
   "source": [
    "inst.generate_random_instance()\n",
    "inst.run_mrsort_all_models(1)"
   ]
  },
  {
   "cell_type": "markdown",
   "metadata": {},
   "source": [
    "We can have a look on the model that have been generated :\n",
    "   * generated parameters of the model MRSort"
   ]
  },
  {
   "cell_type": "code",
   "execution_count": 7,
   "metadata": {},
   "outputs": [
    {
     "name": "stdout",
     "output_type": "stream",
     "text": [
      "     c1    c2    c3    c4    c5 \n",
      "w  0.55  0.13  0.18  0.11  0.03 \n"
     ]
    }
   ],
   "source": [
    "inst.model.cv.display() # display the weights of each criteria of the model w"
   ]
  },
  {
   "cell_type": "code",
   "execution_count": 8,
   "metadata": {},
   "outputs": [
    {
     "name": "stdout",
     "output_type": "stream",
     "text": [
      "Majority threshold (lambda) : \t0.48\n"
     ]
    }
   ],
   "source": [
    "print(\"Majority threshold (lambda) : \\t%.7s\" % inst.model.lbda) "
   ]
  },
  {
   "cell_type": "code",
   "execution_count": 9,
   "metadata": {
    "scrolled": true
   },
   "outputs": [
    {
     "name": "stdout",
     "output_type": "stream",
     "text": [
      "    c1  c2  c3  c4  c5\n",
      "b1 0.4 0.8 0.4 0.9 0.9\n"
     ]
    }
   ],
   "source": [
    "print(inst.model.bpt_sp) # display the limit profile of the random model b1"
   ]
  },
  {
   "cell_type": "markdown",
   "metadata": {},
   "source": [
    " "
   ]
  },
  {
   "cell_type": "markdown",
   "metadata": {},
   "source": [
    "Then, we show the output of the MIP algorithm. This execution learns a randomized model from a generated learning set (performance table and assignments of alternatives)."
   ]
  },
  {
   "cell_type": "code",
   "execution_count": 10,
   "metadata": {
    "scrolled": true
   },
   "outputs": [
    {
     "name": "stdout",
     "output_type": "stream",
     "text": [
      "Time (s) : 0.797429\n"
     ]
    }
   ],
   "source": [
    "print(\"Time (s) : %f\" % inst.exec_time[0]) # computational time of the running"
   ]
  },
  {
   "cell_type": "markdown",
   "metadata": {},
   "source": [
    "We display the parameters of the model learned :"
   ]
  },
  {
   "cell_type": "code",
   "execution_count": 11,
   "metadata": {},
   "outputs": [
    {
     "name": "stdout",
     "output_type": "stream",
     "text": [
      "            c1   c2   c3   c4   c5\n",
      "b1 (0.0, 0.49) 0.91 0.01 0.31 0.11\n",
      "     c1    c2    c3    c4    c5 \n",
      "w     1     0     0     0     0 \n",
      "lambda\t1.0\n"
     ]
    }
   ],
   "source": [
    "print(inst.model2.bpt_sp)\n",
    "inst.model2.cv.display()\n",
    "print(\"lambda\\t%.7s\" % inst.model2.lbda)"
   ]
  },
  {
   "cell_type": "markdown",
   "metadata": {},
   "source": [
    "We also display the learned preference directions : (+) for an increasing direction, (-) for a decreasing preference direction, (+-) for a SP direction and (-+) for a SV direction"
   ]
  },
  {
   "cell_type": "code",
   "execution_count": 12,
   "metadata": {
    "scrolled": true
   },
   "outputs": [
    {
     "name": "stdout",
     "output_type": "stream",
     "text": [
      "[c1 (-), c2 (+), c3 (+), c4 (+), c5 (+)]\n"
     ]
    },
    {
     "data": {
      "text/plain": [
       "[-1, 1, 1, 1, 1]"
      ]
     },
     "execution_count": 12,
     "metadata": {},
     "output_type": "execute_result"
    }
   ],
   "source": [
    "print(list(inst.model2.criteria))\n",
    "[d.direction for d in inst.model2.criteria]"
   ]
  },
  {
   "cell_type": "markdown",
   "metadata": {},
   "source": [
    " "
   ]
  },
  {
   "cell_type": "markdown",
   "metadata": {},
   "source": [
    "We can calculate the CA for the validation of the model regarding the learning set."
   ]
  },
  {
   "cell_type": "code",
   "execution_count": 13,
   "metadata": {},
   "outputs": [
    {
     "name": "stdout",
     "output_type": "stream",
     "text": [
      "validation rate : 1.000000\n"
     ]
    }
   ],
   "source": [
    "print(\"validation rate : %f\" % inst.ca_avg[0])"
   ]
  },
  {
   "cell_type": "markdown",
   "metadata": {},
   "source": [
    "Analogously to the CA in validation phase, we can calculate the CA for the test phase regarding a test set."
   ]
  },
  {
   "cell_type": "code",
   "execution_count": 14,
   "metadata": {
    "scrolled": false
   },
   "outputs": [
    {
     "name": "stdout",
     "output_type": "stream",
     "text": [
      "test rate : 0.908200\n"
     ]
    }
   ],
   "source": [
    "print(\"test rate : %f\" % inst.ca_tests_avg[0])"
   ]
  },
  {
   "cell_type": "markdown",
   "metadata": {},
   "source": [
    " "
   ]
  },
  {
   "cell_type": "markdown",
   "metadata": {},
   "source": [
    "#### Step 4 : show the important results"
   ]
  },
  {
   "cell_type": "markdown",
   "metadata": {},
   "source": [
    "In order to present generalized statistics, we need to carry out the algorithm runnings several times yielding *nb_models* learned models. To do so, we can straightforwardly execute :  "
   ]
  },
  {
   "cell_type": "code",
   "execution_count": 15,
   "metadata": {},
   "outputs": [],
   "source": [
    "inst.run_mrsort_all_models(inst.nb_models)"
   ]
  },
  {
   "cell_type": "code",
   "execution_count": 16,
   "metadata": {},
   "outputs": [
    {
     "data": {
      "text/plain": [
       "'/Users/pegdwendeminoungou/python_workspace/MRSort-jupyter-notebook'"
      ]
     },
     "execution_count": 16,
     "metadata": {},
     "output_type": "execute_result"
    }
   ],
   "source": [
    "DATADIR"
   ]
  },
  {
   "cell_type": "markdown",
   "metadata": {},
   "source": [
    "As a result, all the tests are done and we have also generated a csv file summarizing the tests and giving details on each one. This file is found on the directory *rand_valid_test_na100_nca2_ncr5-0_dupl1* visible from the root directory of this notebook. The file name begins with \"valid_test_dupl....\" ."
   ]
  },
  {
   "cell_type": "markdown",
   "metadata": {},
   "source": [
    "Another csv file is the file that contains more compact data facilitating the drawing of different plots. This file is generated with the command line :"
   ]
  },
  {
   "cell_type": "code",
   "execution_count": 17,
   "metadata": {},
   "outputs": [],
   "source": [
    "inst.report_plot_results_csv()"
   ]
  },
  {
   "cell_type": "markdown",
   "metadata": {},
   "source": [
    "It yields a csv file, which name begins by \"plot_results....\" in the same directory as the previous file."
   ]
  },
  {
   "cell_type": "markdown",
   "metadata": {},
   "source": [
    "The final function of this section is the function that ouputs an instance of the learning algorithm (criteria, categories, performance tables and assignments, all codified in a customized syntax)"
   ]
  },
  {
   "cell_type": "code",
   "execution_count": 18,
   "metadata": {},
   "outputs": [
    {
     "data": {
      "text/plain": [
       "'/Users/pegdwendeminoungou/python_workspace/MRSort-jupyter-notebook/rand_valid_test_na100_nca2_ncr5-4-1-0-0_dupl1_err0//osomcda_rand-100-2-5-1-20210723-194257.csv'"
      ]
     },
     "execution_count": 18,
     "metadata": {},
     "output_type": "execute_result"
    }
   ],
   "source": [
    "inst.build_osomcda_instance_random()"
   ]
  },
  {
   "cell_type": "markdown",
   "metadata": {},
   "source": [
    "This output file is also in the previous directory as the previous files."
   ]
  },
  {
   "cell_type": "code",
   "execution_count": 19,
   "metadata": {},
   "outputs": [
    {
     "name": "stdout",
     "output_type": "stream",
     "text": [
      "Statistics :\n",
      "CA (validation) :  1.0\n",
      "CA (generalization) :  0.9267999999999998\n"
     ]
    },
    {
     "ename": "AttributeError",
     "evalue": "'RandMRSortMIPLearning' object has no attribute 'stats_pcda1'",
     "output_type": "error",
     "traceback": [
      "\u001b[0;31m---------------------------------------------------------------------------\u001b[0m",
      "\u001b[0;31mAttributeError\u001b[0m                            Traceback (most recent call last)",
      "\u001b[0;32m<ipython-input-19-e14036da9b6f>\u001b[0m in \u001b[0;36m<module>\u001b[0;34m\u001b[0m\n\u001b[1;32m      2\u001b[0m \u001b[0mprint\u001b[0m\u001b[0;34m(\u001b[0m\u001b[0;34m\"CA (validation) : \"\u001b[0m \u001b[0;34m,\u001b[0m\u001b[0mnp\u001b[0m\u001b[0;34m.\u001b[0m\u001b[0mmean\u001b[0m\u001b[0;34m(\u001b[0m\u001b[0minst\u001b[0m\u001b[0;34m.\u001b[0m\u001b[0mstats_cav\u001b[0m\u001b[0;34m)\u001b[0m\u001b[0;34m)\u001b[0m\u001b[0;34m\u001b[0m\u001b[0;34m\u001b[0m\u001b[0m\n\u001b[1;32m      3\u001b[0m \u001b[0mprint\u001b[0m\u001b[0;34m(\u001b[0m\u001b[0;34m\"CA (generalization) : \"\u001b[0m \u001b[0;34m,\u001b[0m\u001b[0mnp\u001b[0m\u001b[0;34m.\u001b[0m\u001b[0mmean\u001b[0m\u001b[0;34m(\u001b[0m\u001b[0minst\u001b[0m\u001b[0;34m.\u001b[0m\u001b[0mstats_cag\u001b[0m\u001b[0;34m)\u001b[0m\u001b[0;34m)\u001b[0m\u001b[0;34m\u001b[0m\u001b[0;34m\u001b[0m\u001b[0m\n\u001b[0;32m----> 4\u001b[0;31m \u001b[0mprint\u001b[0m\u001b[0;34m(\u001b[0m\u001b[0;34m\"CA (preference direction) : \"\u001b[0m \u001b[0;34m,\u001b[0m\u001b[0minst\u001b[0m\u001b[0;34m.\u001b[0m\u001b[0mstats_pcda1\u001b[0m\u001b[0;34m)\u001b[0m\u001b[0;34m\u001b[0m\u001b[0;34m\u001b[0m\u001b[0m\n\u001b[0m\u001b[1;32m      5\u001b[0m \u001b[0mprint\u001b[0m\u001b[0;34m(\u001b[0m\u001b[0;34m\"Time execution (seconds) : \"\u001b[0m \u001b[0;34m,\u001b[0m\u001b[0mnp\u001b[0m\u001b[0;34m.\u001b[0m\u001b[0mmean\u001b[0m\u001b[0;34m(\u001b[0m\u001b[0minst\u001b[0m\u001b[0;34m.\u001b[0m\u001b[0mstats_time\u001b[0m\u001b[0;34m)\u001b[0m\u001b[0;34m)\u001b[0m\u001b[0;34m\u001b[0m\u001b[0;34m\u001b[0m\u001b[0m\n",
      "\u001b[0;31mAttributeError\u001b[0m: 'RandMRSortMIPLearning' object has no attribute 'stats_pcda1'"
     ]
    }
   ],
   "source": [
    "print(\"Statistics :\")\n",
    "print(\"CA (validation) : \" ,np.mean(inst.stats_cav))\n",
    "print(\"CA (generalization) : \" ,np.mean(inst.stats_cag))\n",
    "print(\"CA (preference direction) : \" ,inst.stats_pdca1)\n",
    "print(\"Time execution (seconds) : \" ,np.mean(inst.stats_time))"
   ]
  },
  {
   "cell_type": "code",
   "execution_count": null,
   "metadata": {},
   "outputs": [],
   "source": []
  }
 ],
 "metadata": {
  "kernelspec": {
   "display_name": "Python 3",
   "language": "python",
   "name": "python3"
  },
  "language_info": {
   "codemirror_mode": {
    "name": "ipython",
    "version": 3
   },
   "file_extension": ".py",
   "mimetype": "text/x-python",
   "name": "python",
   "nbconvert_exporter": "python",
   "pygments_lexer": "ipython3",
   "version": "3.7.6"
  }
 },
 "nbformat": 4,
 "nbformat_minor": 2
}
